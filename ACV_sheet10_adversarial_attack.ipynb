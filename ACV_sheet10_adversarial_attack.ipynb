{
  "nbformat": 4,
  "nbformat_minor": 0,
  "metadata": {
    "colab": {
      "provenance": [],
      "authorship_tag": "ABX9TyPvperzr6Y2i01kHvZ5OMt3",
      "include_colab_link": true
    },
    "kernelspec": {
      "name": "python3",
      "display_name": "Python 3"
    },
    "language_info": {
      "name": "python"
    }
  },
  "cells": [
    {
      "cell_type": "markdown",
      "metadata": {
        "id": "view-in-github",
        "colab_type": "text"
      },
      "source": [
        "<a href=\"https://colab.research.google.com/github/LMAPcoder/Advanced-Computer-Vision/blob/main/ACV_sheet10_adversarial_attack.ipynb\" target=\"_parent\"><img src=\"https://colab.research.google.com/assets/colab-badge.svg\" alt=\"Open In Colab\"/></a>"
      ]
    },
    {
      "cell_type": "markdown",
      "source": [
        "#Advance Computer Vision"
      ],
      "metadata": {
        "id": "69LZP07zE1wz"
      }
    },
    {
      "cell_type": "markdown",
      "source": [
        "##Exercise Sheet 10"
      ],
      "metadata": {
        "id": "s9LYWYrNE3Cv"
      }
    },
    {
      "cell_type": "markdown",
      "source": [
        "Robustness against adversarial attacks refers to the ability of a machine learning model to maintain its performance and make correct predictions even when it is presented with adversarial examples.\n",
        "\n",
        "Adversarial examples are inputs to the model that have been deliberately modified in a subtle way to cause the model to make a mistake. These modifications are often imperceptible to humans but can significantly affect the model’s output."
      ],
      "metadata": {
        "id": "ze-smCK4XROr"
      }
    },
    {
      "cell_type": "markdown",
      "source": [
        "###Task 1 – Carlini-Wagner Attack"
      ],
      "metadata": {
        "id": "UXLsgV3iE5Yn"
      }
    },
    {
      "cell_type": "markdown",
      "source": [
        "The Carlini and Wagner attack is one of the most effective methods for generating adversarial examples. It formulates the problem of finding adversarial examples as an optimization problem. It seeks to find the smallest perturbation to the input that will cause the model to misclassify it."
      ],
      "metadata": {
        "id": "u3P8QWdpXdeu"
      }
    },
    {
      "cell_type": "code",
      "execution_count": null,
      "metadata": {
        "id": "0ThOcZROj7hG"
      },
      "outputs": [],
      "source": [
        "# Importing libraries\n",
        "\n",
        "import tensorflow as tf\n",
        "tf.random.set_seed(1)\n",
        "\n",
        "from tensorflow import keras\n",
        "from tensorflow.keras import layers\n",
        "from tensorflow.keras import regularizers\n",
        "from tensorflow.keras.callbacks import Callback\n",
        "\n",
        "import numpy as np\n",
        "np.random.seed(1)\n",
        "import IPython.display\n",
        "from PIL import Image\n",
        "import matplotlib.pyplot as plt\n",
        "from matplotlib import cm"
      ]
    },
    {
      "cell_type": "markdown",
      "source": [
        "#### Training original model"
      ],
      "metadata": {
        "id": "PPnMqFijJoLh"
      }
    },
    {
      "cell_type": "markdown",
      "source": [
        "MNIST Dataset"
      ],
      "metadata": {
        "id": "U55fmv28X_vl"
      }
    },
    {
      "cell_type": "code",
      "source": [
        "# Load and preprocess training data (MNIST)\n",
        "(train_images, train_labels), (test_images, test_labels) = tf.keras.datasets.mnist.load_data()\n",
        "train_images = train_images / 255.0\n",
        "test_images = test_images / 255.0\n",
        "train_labels = tf.keras.utils.to_categorical(train_labels)\n",
        "test_labels = tf.keras.utils.to_categorical(test_labels)"
      ],
      "metadata": {
        "colab": {
          "base_uri": "https://localhost:8080/"
        },
        "id": "54g7A6qDkQq4",
        "outputId": "d5a086be-19fe-4b18-cc9b-90094c457bf6"
      },
      "execution_count": null,
      "outputs": [
        {
          "output_type": "stream",
          "name": "stdout",
          "text": [
            "Downloading data from https://storage.googleapis.com/tensorflow/tf-keras-datasets/mnist.npz\n",
            "11490434/11490434 [==============================] - 0s 0us/step\n"
          ]
        }
      ]
    },
    {
      "cell_type": "code",
      "source": [
        "print(train_images.shape)\n",
        "print(train_labels.shape)"
      ],
      "metadata": {
        "colab": {
          "base_uri": "https://localhost:8080/"
        },
        "id": "u4VB68zRBUNQ",
        "outputId": "33e84833-0244-41ac-ccda-02f38696e01e"
      },
      "execution_count": null,
      "outputs": [
        {
          "output_type": "stream",
          "name": "stdout",
          "text": [
            "(60000, 28, 28)\n",
            "(60000, 10)\n"
          ]
        }
      ]
    },
    {
      "cell_type": "code",
      "source": [
        "#Printing a random subset of training dataset along with the labels\n",
        "\n",
        "fig, ax = plt.subplots(nrows=5, ncols=5, figsize=(8,10))\n",
        "for i in range(5):\n",
        "    for j in range(5):\n",
        "        idx = np.random.randint(train_images.shape[0])\n",
        "        ax[i,j].set_title(f'Label: {np.argmax(train_labels[idx])}')\n",
        "        ax[i,j].imshow(train_images[idx], cmap='gray')\n",
        "        ax[i,j].axes.yaxis.set_visible(False)\n",
        "        ax[i,j].axes.xaxis.set_visible(False)"
      ],
      "metadata": {
        "colab": {
          "base_uri": "https://localhost:8080/",
          "height": 803
        },
        "id": "mzu9RAxUyJPx",
        "outputId": "87b55100-4bfc-4be5-aede-d0cd207051aa"
      },
      "execution_count": null,
      "outputs": [
        {
          "output_type": "display_data",
          "data": {
            "text/plain": [
              "<Figure size 800x1000 with 25 Axes>"
            ],
            "image/png": "[encoded data removed]"
          },
          "metadata": {}
        }
      ]
    },
    {
      "cell_type": "markdown",
      "source": [
        "CNN"
      ],
      "metadata": {
        "id": "nHuIiDVtYCQn"
      }
    },
    {
      "cell_type": "code",
      "source": [
        "# simple CNN for MNIST data set\n",
        "def define_model():\n",
        "    inputs = tf.keras.Input(shape=(28, 28, 1), name='inputs')\n",
        "    x = tf.keras.layers.Conv2D(32,kernel_size=3,activation='relu')(inputs)\n",
        "    x = tf.keras.layers.Conv2D(64,kernel_size=3,activation='relu')(x)\n",
        "    x = tf.keras.layers.MaxPooling2D(pool_size=(2, 2))(x)\n",
        "    x = tf.keras.layers.Dropout(0.5)(x)\n",
        "    x = tf.keras.layers.Flatten()(x)\n",
        "    x = tf.keras.layers.Dense(128, activation='relu')(x)\n",
        "    x = tf.keras.layers.Dropout(0.5)(x)\n",
        "    outputs = tf.keras.layers.Dense(10)(x) # no softmax\n",
        "    model = keras.Model(inputs,outputs)\n",
        "    model.summary()\n",
        "    return model"
      ],
      "metadata": {
        "id": "8uiVU4kAkOhK"
      },
      "execution_count": null,
      "outputs": []
    },
    {
      "cell_type": "code",
      "source": [
        "model = define_model()"
      ],
      "metadata": {
        "colab": {
          "base_uri": "https://localhost:8080/"
        },
        "id": "qQvTZviL8LNV",
        "outputId": "a8570d64-eb8a-4ed6-a0b5-be7d414a67f0"
      },
      "execution_count": null,
      "outputs": [
        {
          "output_type": "stream",
          "name": "stdout",
          "text": [
            "Model: \"model\"\n",
            "_________________________________________________________________\n",
            " Layer (type)                Output Shape              Param #   \n",
            "=================================================================\n",
            " inputs (InputLayer)         [(None, 28, 28, 1)]       0         \n",
            "                                                                 \n",
            " conv2d (Conv2D)             (None, 26, 26, 32)        320       \n",
            "                                                                 \n",
            " conv2d_1 (Conv2D)           (None, 24, 24, 64)        18496     \n",
            "                                                                 \n",
            " max_pooling2d (MaxPooling2  (None, 12, 12, 64)        0         \n",
            " D)                                                              \n",
            "                                                                 \n",
            " dropout (Dropout)           (None, 12, 12, 64)        0         \n",
            "                                                                 \n",
            " flatten (Flatten)           (None, 9216)              0         \n",
            "                                                                 \n",
            " dense (Dense)               (None, 128)               1179776   \n",
            "                                                                 \n",
            " dropout_1 (Dropout)         (None, 128)               0         \n",
            "                                                                 \n",
            " dense_1 (Dense)             (None, 10)                1290      \n",
            "                                                                 \n",
            "=================================================================\n",
            "Total params: 1199882 (4.58 MB)\n",
            "Trainable params: 1199882 (4.58 MB)\n",
            "Non-trainable params: 0 (0.00 Byte)\n",
            "_________________________________________________________________\n"
          ]
        }
      ]
    },
    {
      "cell_type": "markdown",
      "source": [
        "Training CNN"
      ],
      "metadata": {
        "id": "fWJ7XmCGYD8e"
      }
    },
    {
      "cell_type": "code",
      "source": [
        "BATCH_SIZE = 32\n",
        "EPOCHS = 5\n",
        "LEARNING_RATE = 0.001\n",
        "\n",
        "OPT = optimizer=keras.optimizers.Adam(\n",
        "    learning_rate=LEARNING_RATE\n",
        ")\n",
        "\n",
        "LOSS = keras.losses.CategoricalCrossentropy(from_logits=True)\n",
        "\n",
        "model.compile(loss=LOSS,optimizer=OPT,metrics=[\"accuracy\"])"
      ],
      "metadata": {
        "id": "zpXUcVPGUUw_"
      },
      "execution_count": null,
      "outputs": []
    },
    {
      "cell_type": "code",
      "source": [
        "# Train model\n",
        "%%time\n",
        "history = model.fit(train_images, train_labels, batch_size=BATCH_SIZE, epochs=EPOCHS)"
      ],
      "metadata": {
        "id": "NoiQ9akskVEV",
        "colab": {
          "base_uri": "https://localhost:8080/"
        },
        "outputId": "36753173-6a5a-4356-91ee-18a21ef1154c"
      },
      "execution_count": null,
      "outputs": [
        {
          "output_type": "stream",
          "name": "stdout",
          "text": [
            "Epoch 1/5\n",
            "1875/1875 [==============================] - 180s 94ms/step - loss: 0.1945 - accuracy: 0.9407\n",
            "Epoch 2/5\n",
            "1875/1875 [==============================] - 158s 84ms/step - loss: 0.0871 - accuracy: 0.9739\n",
            "Epoch 3/5\n",
            "1875/1875 [==============================] - 155s 83ms/step - loss: 0.0707 - accuracy: 0.9786\n",
            "Epoch 4/5\n",
            "1875/1875 [==============================] - 156s 83ms/step - loss: 0.0597 - accuracy: 0.9820\n",
            "Epoch 5/5\n",
            "1875/1875 [==============================] - 152s 81ms/step - loss: 0.0523 - accuracy: 0.9840\n",
            "CPU times: user 19min 43s, sys: 23.8 s, total: 20min 6s\n",
            "Wall time: 13min 27s\n"
          ]
        }
      ]
    },
    {
      "cell_type": "markdown",
      "source": [
        "Image to perturbate"
      ],
      "metadata": {
        "id": "AvUrXqeJJZF4"
      }
    },
    {
      "cell_type": "code",
      "source": [
        "# Data point in test set\n",
        "\n",
        "x0 = test_images[0:1]\n",
        "y0 = test_labels[0:1]\n",
        "\n",
        "original_image = np.squeeze(x0)\n",
        "\n",
        "print('True class: % i' % np.argmax(y0))\n",
        "\n",
        "plt.figure(figsize = (3,3))\n",
        "plt.imshow(original_image, cmap='gray')\n",
        "plt.axis('off')\n",
        "plt.show()"
      ],
      "metadata": {
        "colab": {
          "base_uri": "https://localhost:8080/",
          "height": 285
        },
        "id": "Fz8zdqWJ6F6m",
        "outputId": "59456007-2bc3-4de5-aad7-e646ccf026df"
      },
      "execution_count": null,
      "outputs": [
        {
          "output_type": "stream",
          "name": "stdout",
          "text": [
            "True class:  7\n"
          ]
        },
        {
          "output_type": "display_data",
          "data": {
            "text/plain": [
              "<Figure size 300x300 with 1 Axes>"
            ],
            "image/png": "[encoded data removed]"
          },
          "metadata": {}
        }
      ]
    },
    {
      "cell_type": "markdown",
      "source": [
        "Prediction made by the model for the image"
      ],
      "metadata": {
        "id": "tWjUUFLeJiB7"
      }
    },
    {
      "cell_type": "code",
      "source": [
        "# Prediction made by the model\n",
        "\n",
        "with np.printoptions(precision=2, suppress=True):\n",
        "    predictions = model.predict(x0)[0]\n",
        "    print(\"Model output:\", predictions)\n",
        "\n",
        "with np.printoptions(precision=6, suppress=True):\n",
        "    probs_prediction = tf.nn.softmax(predictions)\n",
        "    print(\"Probabilities:\", probs_prediction.numpy())\n",
        "\n",
        "class_prediction = tf.argmax(probs_prediction)\n",
        "print(\"Class predicted:\", class_prediction.numpy())\n",
        "one_hot_class_prediction = tf.one_hot(class_prediction, depth=len(predictions))\n",
        "print(\"One-hot encoded output:\", one_hot_class_prediction.numpy())"
      ],
      "metadata": {
        "colab": {
          "base_uri": "https://localhost:8080/"
        },
        "id": "1S9yL6QCkQyY",
        "outputId": "47d00a46-0b63-43fe-94be-39bb722b3721"
      },
      "execution_count": null,
      "outputs": [
        {
          "output_type": "stream",
          "name": "stdout",
          "text": [
            "1/1 [==============================] - 0s 169ms/step\n",
            "Model output: [ -9.89  -1.71  -0.25  -0.34  -7.82 -11.81 -22.85  17.89 -10.07  -1.91]\n",
            "Probabilities: [0. 0. 0. 0. 0. 0. 0. 1. 0. 0.]\n",
            "Class predicted: 7\n",
            "One-hot encoded output: [0. 0. 0. 0. 0. 0. 0. 1. 0. 0.]\n"
          ]
        }
      ]
    },
    {
      "cell_type": "markdown",
      "source": [
        "#### Training perturbation"
      ],
      "metadata": {
        "id": "Wi-n15SgJuOY"
      }
    },
    {
      "cell_type": "markdown",
      "source": [
        "Adversarial attack with Carlini-Warner approach"
      ],
      "metadata": {
        "id": "-j9B_tZKo7RL"
      }
    },
    {
      "cell_type": "code",
      "source": [
        "def custom_regularizer(inputs):\n",
        "    def regularizer(weight_matrix):\n",
        "        return tf.norm(weight_matrix - inputs, ord='euclidean')\n",
        "    return regularizer"
      ],
      "metadata": {
        "id": "uDy7QBkAGLQN"
      },
      "execution_count": null,
      "outputs": []
    },
    {
      "cell_type": "code",
      "source": [
        "# Perturbation layer\n",
        "class Perturbation(tf.keras.layers.Layer):\n",
        "  def __init__(self,  name='perturbation'):\n",
        "    super().__init__(name=name)\n",
        "  def build(self, input_shape):\n",
        "    self.w = self.add_weight(shape=input_shape[1:],\n",
        "                             initializer=\"random_normal\",\n",
        "                             trainable=True,\n",
        "                             name='w')\n",
        "  def call(self, inputs):\n",
        "    #regularization term in Carlini-Warner formula\n",
        "    self.add_loss(custom_regularizer(inputs)(self.w))\n",
        "    return inputs + self.w"
      ],
      "metadata": {
        "id": "XNgKY4iMo-dW"
      },
      "execution_count": null,
      "outputs": []
    },
    {
      "cell_type": "code",
      "source": [
        "# Model with perturbation layer\n",
        "\n",
        "def define_perturbated_model(model):\n",
        "  inputs = model.input\n",
        "  x = Perturbation()(inputs)\n",
        "  for layer in model.layers[1:]:\n",
        "    x = layer(x)\n",
        "    layer.trainable = False # Layers of original model remain frozen\n",
        "  outputs = x\n",
        "  perturbated_model = keras.Model(inputs, outputs)\n",
        "  perturbated_model.summary()\n",
        "  return perturbated_model"
      ],
      "metadata": {
        "id": "Ay1wrvoGyhpo"
      },
      "execution_count": null,
      "outputs": []
    },
    {
      "cell_type": "code",
      "source": [
        "pertubated_model = define_perturbated_model(model)"
      ],
      "metadata": {
        "colab": {
          "base_uri": "https://localhost:8080/"
        },
        "id": "IrgORpLk1arw",
        "outputId": "9f8a736e-c65b-45ae-8486-c3af995574b2"
      },
      "execution_count": null,
      "outputs": [
        {
          "output_type": "stream",
          "name": "stdout",
          "text": [
            "Model: \"model_1\"\n",
            "_________________________________________________________________\n",
            " Layer (type)                Output Shape              Param #   \n",
            "=================================================================\n",
            " inputs (InputLayer)         [(None, 28, 28, 1)]       0         \n",
            "                                                                 \n",
            " perturbation (Perturbation  (None, 28, 28, 1)         784       \n",
            " )                                                               \n",
            "                                                                 \n",
            " conv2d (Conv2D)             (None, 26, 26, 32)        320       \n",
            "                                                                 \n",
            " conv2d_1 (Conv2D)           (None, 24, 24, 64)        18496     \n",
            "                                                                 \n",
            " max_pooling2d (MaxPooling2  (None, 12, 12, 64)        0         \n",
            " D)                                                              \n",
            "                                                                 \n",
            " dropout (Dropout)           (None, 12, 12, 64)        0         \n",
            "                                                                 \n",
            " flatten (Flatten)           (None, 9216)              0         \n",
            "                                                                 \n",
            " dense (Dense)               (None, 128)               1179776   \n",
            "                                                                 \n",
            " dropout_1 (Dropout)         (None, 128)               0         \n",
            "                                                                 \n",
            " dense_1 (Dense)             (None, 10)                1290      \n",
            "                                                                 \n",
            "=================================================================\n",
            "Total params: 1200666 (4.58 MB)\n",
            "Trainable params: 784 (3.06 KB)\n",
            "Non-trainable params: 1199882 (4.58 MB)\n",
            "_________________________________________________________________\n"
          ]
        }
      ]
    },
    {
      "cell_type": "markdown",
      "source": [
        "Carlini-Wagner objective function"
      ],
      "metadata": {
        "id": "xNU3BPz0VlTD"
      }
    },
    {
      "cell_type": "markdown",
      "source": [
        "\\begin{align}\n",
        "x^{*} &= \\arg \\min_{x \\in \\mathcal{X}}  \\|\\textbf{x}-\\textbf{x}_0\\|_2^2 + \\lambda \\max \\left(\\max_{j \\neq t}\\{f_{\\theta}(\\textbf{x})_j\\}-f_{\\theta}(\\textbf{x})_t, -\\kappa \\right)\n",
        "\\end{align}\n",
        "\n",
        "\n",
        "\n",
        "where:\n",
        "\n",
        "$f_{\\theta}(\\textbf{x})$ are the class scores (logits)\n",
        "\n",
        "t is the target class\n",
        "\n",
        "λ is a hyperparameter that trades off between confidence in target classification and strength of perturbation\n",
        "\n",
        "κ is a margin that control the strength of the confidence of the model on the wrong label\n",
        "\n",
        "$\\delta = \\|\\textbf{x}\\|$"
      ],
      "metadata": {
        "id": "kA4uvafYbjNj"
      }
    },
    {
      "cell_type": "code",
      "source": [
        "# @tf.function\n",
        "# def Carlini_Wagner(y_true, y_pred, λ=0.9, κ=0.0):\n",
        "#   y_pred = tf.squeeze(y_pred)\n",
        "#   y_true = tf.squeeze(y_true)\n",
        "#   t = tf.math.argmax(y_true, output_type=tf.dtypes.int32)\n",
        "#   y_t = y_pred[t]\n",
        "#   y_pred = tf.concat([y_pred[:t],y_pred[t+1:]],0)\n",
        "#   L = tf.math.maximum(tf.reduce_max(y_pred) - y_t,-κ)\n",
        "#   return λ*L"
      ],
      "metadata": {
        "id": "ofHt5uvX5Lz1"
      },
      "execution_count": null,
      "outputs": []
    },
    {
      "cell_type": "code",
      "source": [
        "# Carlini-Warger loss (second term)\n",
        "\n",
        "class Carlini_Wagner(tf.keras.losses.Loss):\n",
        "    def __init__(self, name='carlini-wagner', λ=0.9, kappa=0.0):\n",
        "        self.margin = kappa\n",
        "        self.weight = λ\n",
        "        super().__init__(name=name)\n",
        "\n",
        "    def call(self, y_true, y_pred):\n",
        "\n",
        "        y_j = tf.math.multiply(1-y_true, y_pred)\n",
        "        y_t = tf.math.multiply(y_true, y_pred)\n",
        "        L = tf.math.maximum(tf.reduce_max(y_j) - tf.reduce_max(y_t),-self.margin)\n",
        "\n",
        "        return self.weight *  L"
      ],
      "metadata": {
        "id": "qZU4Q4FwXp8U"
      },
      "execution_count": null,
      "outputs": []
    },
    {
      "cell_type": "code",
      "source": [
        "# Predictions made by the original and perturbed model before training\n",
        "\n",
        "with np.printoptions(precision=4, suppress=True):\n",
        "\n",
        "    predictions_original = model.predict(x0)[0]\n",
        "    predictions_perturbed = pertubated_model.predict(x0)[0]\n",
        "\n",
        "    probs_prediction = tf.nn.softmax(predictions_original)\n",
        "    print(\"Original model output:\", probs_prediction.numpy())\n",
        "\n",
        "    probs_prediction = tf.nn.softmax(predictions_perturbed)\n",
        "    print(\"Perturbed model output:\", probs_prediction.numpy(), \"before training\")\n",
        "\n",
        "probs_prediction = tf.nn.softmax(predictions_original)\n",
        "class_prediction = tf.argmax(probs_prediction)\n",
        "print(\"Original class predicted:\", class_prediction.numpy())\n",
        "\n",
        "probs_prediction = tf.nn.softmax(predictions_perturbed)\n",
        "class_prediction = tf.argmax(probs_prediction)\n",
        "print(\"Class predicted:\", class_prediction.numpy())"
      ],
      "metadata": {
        "colab": {
          "base_uri": "https://localhost:8080/"
        },
        "id": "W4kv-nMM-QSm",
        "outputId": "a4d0f1b3-8915-4f9d-b392-bdb9c7b851b6"
      },
      "execution_count": null,
      "outputs": [
        {
          "output_type": "stream",
          "name": "stdout",
          "text": [
            "1/1 [==============================] - 0s 27ms/step\n",
            "1/1 [==============================] - 0s 91ms/step\n",
            "Original model output: [0. 0. 0. 0. 0. 0. 0. 1. 0. 0.]\n",
            "Perturbed model output: [0. 0. 0. 0. 0. 0. 0. 1. 0. 0.] before training\n",
            "Original class predicted: 7\n",
            "Class predicted: 7\n"
          ]
        }
      ]
    },
    {
      "cell_type": "code",
      "source": [
        "#Input shape\n",
        "print(\"Input shape:\", x0.shape)\n",
        "\n",
        "# Perturbation shape\n",
        "x0_bar = pertubated_model.get_layer('perturbation').get_weights()\n",
        "delta = np.linalg.norm(np.squeeze(x0_bar), ord=2)\n",
        "print(\"Perturbation shape:\", x0_bar[0].shape)\n",
        "print(\"Initial perturbation norm2:\", delta)\n",
        "\n",
        "# Target class\n",
        "y0f = [3] #TARGET CLASS \"3\"\n",
        "print(\"Target class:\", y0f[0])\n",
        "y0f = tf.keras.utils.to_categorical(y0f, num_classes=10)\n",
        "print(\"One-hot encoded target class:\", y0f)\n",
        "print(\"Output shape:\", y0f.shape)"
      ],
      "metadata": {
        "colab": {
          "base_uri": "https://localhost:8080/"
        },
        "id": "wNTa1m-C37OS",
        "outputId": "d96b693e-63cb-43ed-94dd-7df4b1a6cbbe"
      },
      "execution_count": null,
      "outputs": [
        {
          "output_type": "stream",
          "name": "stdout",
          "text": [
            "Input shape: (1, 28, 28)\n",
            "Perturbation shape: (28, 28, 1)\n",
            "Initial perturbation norm2: 0.49713555\n",
            "Target class: 3\n",
            "One-hot encoded target class: [[0. 0. 0. 1. 0. 0. 0. 0. 0. 0.]]\n",
            "Output shape: (1, 10)\n"
          ]
        }
      ]
    },
    {
      "cell_type": "code",
      "source": [
        "# Custom callback to print loss and delta\n",
        "class customCallback(Callback):\n",
        "    def __init__(self, layer_name, log_interval):\n",
        "        self.layer_name = layer_name\n",
        "        super(customCallback, self).__init__()\n",
        "        self.log_interval = log_interval\n",
        "\n",
        "    def on_epoch_end(self, epoch, logs=None):\n",
        "\n",
        "        if (epoch+1) % self.log_interval == 0:\n",
        "            weights = self.model.get_layer(self.layer_name).get_weights()\n",
        "            delta = np.linalg.norm(np.squeeze(weights), ord=2)\n",
        "\n",
        "            logs = logs or {}\n",
        "            logs['delta'] = delta\n",
        "            loss = logs.get('loss')\n",
        "            print(f'Epoch {epoch + 1}: loss = {loss:.3f} delta = {delta:.3f}', end='\\n')"
      ],
      "metadata": {
        "id": "1ZNTqvY4hMPv"
      },
      "execution_count": null,
      "outputs": []
    },
    {
      "cell_type": "code",
      "source": [
        "%%time\n",
        "\n",
        "LEARNING_RATE = 0.0001\n",
        "EPOCHS = 2000\n",
        "log_interval = 200\n",
        "LAMBDA = 0.9\n",
        "KAPPA = 1.0\n",
        "\n",
        "print(f\"Lambda: {LAMBDA}\\nKappa: {KAPPA}\")\n",
        "\n",
        "# custom_loss = keras.losses.CategoricalCrossentropy(from_logits=True)\n",
        "LOSS = Carlini_Wagner(λ=LAMBDA, kappa=KAPPA)\n",
        "\n",
        "OPT = keras.optimizers.Adam(\n",
        "    learning_rate=LEARNING_RATE\n",
        ")\n",
        "\n",
        "pertubated_model.compile(loss=LOSS, optimizer=OPT)\n",
        "history = pertubated_model.fit(x0, y0f, epochs=EPOCHS, callbacks=[customCallback('perturbation', log_interval)], verbose=0)"
      ],
      "metadata": {
        "colab": {
          "base_uri": "https://localhost:8080/"
        },
        "id": "dy8htt212DlU",
        "outputId": "fdf9c790-7e35-4fa2-a903-00faca7a57f7"
      },
      "execution_count": null,
      "outputs": [
        {
          "output_type": "stream",
          "name": "stdout",
          "text": [
            "Lambda: 0.9\n",
            "Kappa: 1.0\n",
            "Epoch 200: loss = 18.116 delta = 0.517\n",
            "Epoch 400: loss = 25.622 delta = 0.561\n",
            "Epoch 600: loss = 18.317 delta = 0.616\n",
            "Epoch 800: loss = 16.610 delta = 0.686\n",
            "Epoch 1000: loss = 13.340 delta = 0.782\n",
            "Epoch 1200: loss = 11.065 delta = 0.898\n",
            "Epoch 1400: loss = 7.630 delta = 0.995\n",
            "Epoch 1600: loss = 7.409 delta = 1.051\n",
            "Epoch 1800: loss = 7.395 delta = 1.079\n",
            "Epoch 2000: loss = 7.375 delta = 1.105\n"
          ]
        }
      ]
    },
    {
      "cell_type": "code",
      "source": [
        "# Perturbation shape after training\n",
        "x0_bar = pertubated_model.get_layer('perturbation').get_weights()\n",
        "perturbation = np.squeeze(x0_bar)\n",
        "delta = np.linalg.norm(perturbation, ord=2)\n",
        "print(\"Perturbation shape:\", perturbation.shape)\n",
        "print(\"End perturbation norm2:\", delta)"
      ],
      "metadata": {
        "colab": {
          "base_uri": "https://localhost:8080/"
        },
        "id": "-PoAcQ90_9Nt",
        "outputId": "11b3c386-29dd-4184-c9d8-54283e45b6e7"
      },
      "execution_count": null,
      "outputs": [
        {
          "output_type": "stream",
          "name": "stdout",
          "text": [
            "Perturbation shape: (28, 28)\n",
            "End perturbation norm2: 1.105038\n"
          ]
        }
      ]
    },
    {
      "cell_type": "code",
      "source": [
        "with np.printoptions(precision=4, suppress=True):\n",
        "\n",
        "    predictions_original = model.predict(x0)[0]\n",
        "    predictions_perturbed = pertubated_model.predict(x0)[0]\n",
        "\n",
        "    probs_prediction = tf.nn.softmax(predictions_original)\n",
        "    print(\"Original model output:\", probs_prediction.numpy())\n",
        "\n",
        "    probs_prediction = tf.nn.softmax(predictions_perturbed)\n",
        "    print(\"Perturbed model output:\", probs_prediction.numpy(), \"before training\")\n",
        "\n",
        "probs_prediction = tf.nn.softmax(predictions_original)\n",
        "class_prediction = tf.argmax(probs_prediction)\n",
        "print(\"Original class predicted:\", class_prediction.numpy())\n",
        "\n",
        "probs_prediction = tf.nn.softmax(predictions_perturbed)\n",
        "class_prediction = tf.argmax(probs_prediction)\n",
        "print(\"Class predicted:\", class_prediction.numpy())"
      ],
      "metadata": {
        "colab": {
          "base_uri": "https://localhost:8080/"
        },
        "id": "yp1whFsoDMqt",
        "outputId": "2f5b22c9-8979-4955-b546-a476b0a65b29"
      },
      "execution_count": null,
      "outputs": [
        {
          "output_type": "stream",
          "name": "stdout",
          "text": [
            "1/1 [==============================] - 0s 23ms/step\n",
            "1/1 [==============================] - 0s 93ms/step\n",
            "Original model output: [0. 0. 0. 0. 0. 0. 0. 1. 0. 0.]\n",
            "Perturbed model output: [0.     0.     0.0001 0.9845 0.     0.     0.     0.0153 0.     0.    ] before training\n",
            "Original class predicted: 7\n",
            "Class predicted: 3\n"
          ]
        }
      ]
    },
    {
      "cell_type": "code",
      "source": [
        "fig, axes = plt.subplots(nrows=1, ncols=3, figsize=(12,4))\n",
        "\n",
        "fig.suptitle('Carlini-Wagner attack')\n",
        "\n",
        "axes[0].imshow(original_image, cmap='gray')\n",
        "axes[0].set_title('Original image')\n",
        "axes[0].axis('off')\n",
        "\n",
        "axes[1].imshow(perturbation, cmap='gray')\n",
        "axes[1].set_title('Perturbation')\n",
        "axes[1].axis('off')\n",
        "\n",
        "axes[2].imshow(original_image+perturbation, cmap='gray')\n",
        "axes[2].set_title('Adversarial image')\n",
        "axes[2].axis('off')\n",
        "\n",
        "plt.show()"
      ],
      "metadata": {
        "colab": {
          "base_uri": "https://localhost:8080/",
          "height": 367
        },
        "id": "z9zV_7-d2qU_",
        "outputId": "b16d351b-ec1b-4490-93ab-f40871783306"
      },
      "execution_count": null,
      "outputs": [
        {
          "output_type": "display_data",
          "data": {
            "text/plain": [
              "<Figure size 1200x400 with 3 Axes>"
            ],
            "image/png": "[encoded data removed]"
          },
          "metadata": {}
        }
      ]
    },
    {
      "cell_type": "markdown",
      "source": [
        "###Task 2 – Sparse Perturbations"
      ],
      "metadata": {
        "id": "A2i8SN9uCilu"
      }
    },
    {
      "cell_type": "markdown",
      "source": [
        "Hoyer-Square regularizer\n",
        "\n",
        "The Hoyer-Square regularizer is a sparsity-inducing regularizer used to encourage sparsity in the weights of a neural network. According Yang et al. (2020) this sparsity-inducing regularizer has the advantage to be differentiable almost everywhere and scale-invariant.\n",
        "\n",
        "\\begin{align}\n",
        " H_S(W) = \\frac{\\left(\\sum_{i}|w_i|\\right)^2}{\\sum_{i}w_{i}^{2}}\n",
        "\\end{align}\n",
        "\n",
        "where $w_i$ are the weights of the neural network\n",
        "\n",
        "Applying the Hoyer-Square regularizer to the Carlini-Wagner formulation:\n",
        "\n",
        "\\begin{align}\n",
        "x^{*} = \\arg \\min_{x \\in \\mathcal{X}}  \\frac{\\left(\\sum_{i}|x_i - x_{0i}|\\right)^2}{\\sum_{i}(x_{i} - x_{0i})^{2}} + \\lambda \\max \\left(\\max_{j \\neq t}\\{f_{\\theta}(\\textbf{x})_j\\}-f_{\\theta}(\\textbf{x})_t, -\\kappa \\right)\n",
        "\\end{align}\n",
        "\n",
        "where $x_i$ and $x_{i0}$ are the pixel values of the perturbation and the input respectively.\n"
      ],
      "metadata": {
        "id": "9MOGO7G1oCwa"
      }
    },
    {
      "cell_type": "code",
      "source": [
        "def hoyer_square_regularizer(inputs):\n",
        "    def regularizer(weight_matrix):\n",
        "        numerator = tf.square(tf.reduce_sum(tf.abs(weight_matrix - inputs)))\n",
        "        denominator = tf.reduce_sum(tf.square(weight_matrix - inputs))\n",
        "        return numerator/(denominator + 1e-7)\n",
        "        # return tf.norm(weight_matrix - inputs, ord=1)\n",
        "    return regularizer"
      ],
      "metadata": {
        "id": "520VyxDwClw1"
      },
      "execution_count": null,
      "outputs": []
    },
    {
      "cell_type": "code",
      "source": [
        "# Perturbation layer\n",
        "class Perturbation(tf.keras.layers.Layer):\n",
        "  def __init__(self,  name='perturbation'):\n",
        "    super().__init__(name=name)\n",
        "  def build(self, input_shape):\n",
        "    self.w = self.add_weight(shape=input_shape[1:],\n",
        "                             initializer=\"random_normal\",\n",
        "                             trainable=True,\n",
        "                             name='w')\n",
        "  def call(self, inputs):\n",
        "    #regularization term in Carlini-Warner formula\n",
        "    self.add_loss(hoyer_square_regularizer(inputs)(self.w))\n",
        "    return inputs + self.w"
      ],
      "metadata": {
        "id": "DekDzsfJGAFN"
      },
      "execution_count": null,
      "outputs": []
    },
    {
      "cell_type": "code",
      "source": [
        "pertubated_model = define_perturbated_model(model)"
      ],
      "metadata": {
        "colab": {
          "base_uri": "https://localhost:8080/"
        },
        "id": "XDDlTUyiF6EL",
        "outputId": "567ba5a1-1805-45f3-845e-27a85f2d36aa"
      },
      "execution_count": null,
      "outputs": [
        {
          "output_type": "stream",
          "name": "stdout",
          "text": [
            "Model: \"model_2\"\n",
            "_________________________________________________________________\n",
            " Layer (type)                Output Shape              Param #   \n",
            "=================================================================\n",
            " inputs (InputLayer)         [(None, 28, 28, 1)]       0         \n",
            "                                                                 \n",
            " perturbation (Perturbation  (None, 28, 28, 1)         784       \n",
            " )                                                               \n",
            "                                                                 \n",
            " conv2d (Conv2D)             (None, 26, 26, 32)        320       \n",
            "                                                                 \n",
            " conv2d_1 (Conv2D)           (None, 24, 24, 64)        18496     \n",
            "                                                                 \n",
            " max_pooling2d (MaxPooling2  (None, 12, 12, 64)        0         \n",
            " D)                                                              \n",
            "                                                                 \n",
            " dropout (Dropout)           (None, 12, 12, 64)        0         \n",
            "                                                                 \n",
            " flatten (Flatten)           (None, 9216)              0         \n",
            "                                                                 \n",
            " dense (Dense)               (None, 128)               1179776   \n",
            "                                                                 \n",
            " dropout_1 (Dropout)         (None, 128)               0         \n",
            "                                                                 \n",
            " dense_1 (Dense)             (None, 10)                1290      \n",
            "                                                                 \n",
            "=================================================================\n",
            "Total params: 1200666 (4.58 MB)\n",
            "Trainable params: 784 (3.06 KB)\n",
            "Non-trainable params: 1199882 (4.58 MB)\n",
            "_________________________________________________________________\n"
          ]
        }
      ]
    },
    {
      "cell_type": "code",
      "source": [
        "LEARNING_RATE = 0.001\n",
        "EPOCHS = 2000\n",
        "log_interval = 200\n",
        "LAMBDA = 0.9\n",
        "KAPPA = 1.0\n",
        "\n",
        "print(f\"Lambda: {LAMBDA}\\nKappa: {KAPPA}\")\n",
        "\n",
        "LOSS = Carlini_Wagner(λ=LAMBDA, kappa=KAPPA)\n",
        "\n",
        "OPT = keras.optimizers.Adam(\n",
        "    learning_rate=LEARNING_RATE\n",
        ")\n",
        "\n",
        "pertubated_model.compile(loss=LOSS, optimizer=OPT)\n",
        "history = pertubated_model.fit(x0, y0f, epochs=EPOCHS, callbacks=[customCallback('perturbation', log_interval)], verbose=0)"
      ],
      "metadata": {
        "colab": {
          "base_uri": "https://localhost:8080/"
        },
        "id": "Wf_w6qLnGMLo",
        "outputId": "b1b302e6-2ddf-4f80-9142-2a24245fedd3"
      },
      "execution_count": null,
      "outputs": [
        {
          "output_type": "stream",
          "name": "stdout",
          "text": [
            "Lambda: 0.9\n",
            "Kappa: 1.0\n",
            "Epoch 200: loss = 81.673 delta = 0.815\n",
            "Epoch 400: loss = 78.960 delta = 1.376\n",
            "Epoch 600: loss = 63.087 delta = 1.927\n",
            "Epoch 800: loss = 48.691 delta = 2.374\n",
            "Epoch 1000: loss = 46.421 delta = 2.644\n",
            "Epoch 1200: loss = 39.350 delta = 2.816\n",
            "Epoch 1400: loss = 35.769 delta = 3.126\n",
            "Epoch 1600: loss = 31.930 delta = 3.541\n",
            "Epoch 1800: loss = 28.066 delta = 3.995\n",
            "Epoch 2000: loss = 24.791 delta = 4.286\n"
          ]
        }
      ]
    },
    {
      "cell_type": "code",
      "source": [
        "with np.printoptions(precision=4, suppress=True):\n",
        "\n",
        "    predictions_original = model.predict(x0)[0]\n",
        "    predictions_perturbed = pertubated_model.predict(x0)[0]\n",
        "\n",
        "    probs_prediction = tf.nn.softmax(predictions_original)\n",
        "    print(\"Original model output:\", probs_prediction.numpy())\n",
        "\n",
        "    probs_prediction = tf.nn.softmax(predictions_perturbed)\n",
        "    print(\"Perturbed model output:\", probs_prediction.numpy(), \"before training\")\n",
        "\n",
        "probs_prediction = tf.nn.softmax(predictions_original)\n",
        "class_prediction = tf.argmax(probs_prediction)\n",
        "print(\"Original class predicted:\", class_prediction.numpy())\n",
        "\n",
        "probs_prediction = tf.nn.softmax(predictions_perturbed)\n",
        "class_prediction = tf.argmax(probs_prediction)\n",
        "print(\"Class predicted:\", class_prediction.numpy())"
      ],
      "metadata": {
        "colab": {
          "base_uri": "https://localhost:8080/"
        },
        "id": "QQFz-W_-GYHL",
        "outputId": "b0a6a779-cc88-46bb-bdc4-b66ecabf9625"
      },
      "execution_count": null,
      "outputs": [
        {
          "output_type": "stream",
          "name": "stdout",
          "text": [
            "1/1 [==============================] - 0s 23ms/step\n",
            "1/1 [==============================] - 0s 96ms/step\n",
            "Original model output: [0. 0. 0. 0. 0. 0. 0. 1. 0. 0.]\n",
            "Perturbed model output: [0.     0.     0.     0.9988 0.     0.     0.     0.0012 0.     0.    ] before training\n",
            "Original class predicted: 7\n",
            "Class predicted: 3\n"
          ]
        }
      ]
    },
    {
      "cell_type": "code",
      "source": [
        "# Perturbation\n",
        "x0_bar = pertubated_model.get_layer('perturbation').get_weights()\n",
        "perturbation = np.squeeze(x0_bar)\n",
        "non_zero_pixels = np.count_nonzero(perturbation)\n",
        "print(\"Number of non-zero pixels:\", non_zero_pixels)\n",
        "\n",
        "# Rounded perturbation\n",
        "threshold = 1e-3\n",
        "round_perturbation = np.where(np.abs(perturbation) < threshold, 0., perturbation)\n",
        "non_zero_pixels = np.count_nonzero(round_perturbation)\n",
        "print(\"Number of non-zero pixels:\", non_zero_pixels)"
      ],
      "metadata": {
        "colab": {
          "base_uri": "https://localhost:8080/"
        },
        "id": "OvRDEPxzIpVx",
        "outputId": "5ee4bf59-bc27-4c10-9f45-085066275a9a"
      },
      "execution_count": null,
      "outputs": [
        {
          "output_type": "stream",
          "name": "stdout",
          "text": [
            "Number of non-zero pixels: 784\n",
            "Number of non-zero pixels: 116\n"
          ]
        }
      ]
    },
    {
      "cell_type": "code",
      "source": [
        "fig, axes = plt.subplots(nrows=1, ncols=3, figsize=(12,4))\n",
        "\n",
        "fig.suptitle('Carlini-Wagner attack')\n",
        "\n",
        "axes[0].imshow(original_image, cmap='gray')\n",
        "axes[0].set_title('Original image')\n",
        "axes[0].axis('off')\n",
        "\n",
        "axes[1].imshow(perturbation, cmap='gray')\n",
        "axes[1].set_title('Perturbation')\n",
        "axes[1].axis('off')\n",
        "\n",
        "axes[2].imshow(original_image+perturbation, cmap='gray')\n",
        "axes[2].set_title('Adversarial image')\n",
        "axes[2].axis('off')\n",
        "\n",
        "plt.show()"
      ],
      "metadata": {
        "colab": {
          "base_uri": "https://localhost:8080/",
          "height": 367
        },
        "id": "CYJVTgxqGqsB",
        "outputId": "6d00911c-0a84-4253-910d-425d13e77584"
      },
      "execution_count": null,
      "outputs": [
        {
          "output_type": "display_data",
          "data": {
            "text/plain": [
              "<Figure size 1200x400 with 3 Axes>"
            ],
            "image/png": "[encoded data removed]"
          },
          "metadata": {}
        }
      ]
    }
  ]
}